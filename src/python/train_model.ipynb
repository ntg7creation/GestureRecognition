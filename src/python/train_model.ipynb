{
 "cells": [
  {
   "cell_type": "markdown",
   "id": "1d3c8706",
   "metadata": {},
   "source": [
    "📦 Imports & Setup"
   ]
  },
  {
   "cell_type": "code",
   "execution_count": 3,
   "id": "989ffc17",
   "metadata": {},
   "outputs": [
    {
     "name": "stdout",
     "output_type": "stream",
     "text": [
      "Requirement already satisfied: matplotlib in c:\\users\\natai\\onedrive\\documents\\repos\\gesturerecognition\\venv\\lib\\site-packages (3.10.3)\n",
      "Requirement already satisfied: contourpy>=1.0.1 in c:\\users\\natai\\onedrive\\documents\\repos\\gesturerecognition\\venv\\lib\\site-packages (from matplotlib) (1.3.2)\n",
      "Requirement already satisfied: cycler>=0.10 in c:\\users\\natai\\onedrive\\documents\\repos\\gesturerecognition\\venv\\lib\\site-packages (from matplotlib) (0.12.1)\n",
      "Requirement already satisfied: fonttools>=4.22.0 in c:\\users\\natai\\onedrive\\documents\\repos\\gesturerecognition\\venv\\lib\\site-packages (from matplotlib) (4.58.0)\n",
      "Requirement already satisfied: kiwisolver>=1.3.1 in c:\\users\\natai\\onedrive\\documents\\repos\\gesturerecognition\\venv\\lib\\site-packages (from matplotlib) (1.4.8)\n",
      "Requirement already satisfied: numpy>=1.23 in c:\\users\\natai\\onedrive\\documents\\repos\\gesturerecognition\\venv\\lib\\site-packages (from matplotlib) (2.2.6)\n",
      "Requirement already satisfied: packaging>=20.0 in c:\\users\\natai\\onedrive\\documents\\repos\\gesturerecognition\\venv\\lib\\site-packages (from matplotlib) (25.0)\n",
      "Requirement already satisfied: pillow>=8 in c:\\users\\natai\\onedrive\\documents\\repos\\gesturerecognition\\venv\\lib\\site-packages (from matplotlib) (11.2.1)\n",
      "Requirement already satisfied: pyparsing>=2.3.1 in c:\\users\\natai\\onedrive\\documents\\repos\\gesturerecognition\\venv\\lib\\site-packages (from matplotlib) (3.2.3)\n",
      "Requirement already satisfied: python-dateutil>=2.7 in c:\\users\\natai\\onedrive\\documents\\repos\\gesturerecognition\\venv\\lib\\site-packages (from matplotlib) (2.9.0.post0)\n",
      "Requirement already satisfied: six>=1.5 in c:\\users\\natai\\onedrive\\documents\\repos\\gesturerecognition\\venv\\lib\\site-packages (from python-dateutil>=2.7->matplotlib) (1.17.0)\n",
      "Note: you may need to restart the kernel to use updated packages.\n"
     ]
    },
    {
     "name": "stderr",
     "output_type": "stream",
     "text": [
      "\n",
      "[notice] A new release of pip is available: 24.2 -> 25.1.1\n",
      "[notice] To update, run: python.exe -m pip install --upgrade pip\n"
     ]
    }
   ],
   "source": [
    "pip install matplotlib\n"
   ]
  },
  {
   "cell_type": "code",
   "execution_count": 4,
   "id": "19189d7b",
   "metadata": {},
   "outputs": [],
   "source": [
    "import torch\n",
    "from torch import nn\n",
    "from torch.utils.data import Dataset, DataLoader\n",
    "from transformers import BertTokenizer, BertModel\n",
    "import json\n",
    "import matplotlib.pyplot as plt\n",
    "import os\n"
   ]
  },
  {
   "cell_type": "markdown",
   "id": "3b4ff5c2",
   "metadata": {},
   "source": [
    "🔧 Load Model & Tokenizer"
   ]
  },
  {
   "cell_type": "code",
   "execution_count": 2,
   "id": "0ffd0ac9",
   "metadata": {},
   "outputs": [],
   "source": [
    "class BERTToRotation(nn.Module):\n",
    "    def __init__(self, output_dim=15):\n",
    "        super().__init__()\n",
    "        self.linear = nn.Sequential(\n",
    "            nn.Linear(768, 256),\n",
    "            nn.ReLU(),\n",
    "            nn.Linear(256, output_dim)\n",
    "        )\n",
    "\n",
    "    def forward(self, x):\n",
    "        return self.linear(x)\n",
    "\n",
    "tokenizer = BertTokenizer.from_pretrained(\"bert-base-uncased\")\n",
    "bert = BertModel.from_pretrained(\"bert-base-uncased\")\n",
    "bert.eval()\n",
    "\n",
    "model = BERTToRotation(output_dim=15)\n"
   ]
  },
  {
   "cell_type": "markdown",
   "id": "86a24aee",
   "metadata": {},
   "source": [
    "📁 Load Dataset"
   ]
  },
  {
   "cell_type": "code",
   "execution_count": 3,
   "id": "962a0323",
   "metadata": {},
   "outputs": [],
   "source": [
    "class GestureDataset(Dataset):\n",
    "    def __init__(self, path, tokenizer):\n",
    "        with open(path, \"r\") as f:\n",
    "            self.samples = json.load(f)\n",
    "        self.tokenizer = tokenizer\n",
    "\n",
    "    def __len__(self):\n",
    "        return len(self.samples)\n",
    "\n",
    "    def __getitem__(self, idx):\n",
    "        gesture = self.samples[idx][\"gesture\"]\n",
    "        vec = self.samples[idx][\"rotation_vector\"]\n",
    "        if not isinstance(vec, list) or len(vec) != 15:\n",
    "            raise ValueError(f\"Invalid vector: {vec}\")\n",
    "        target = torch.tensor(vec, dtype=torch.float32).reshape(15)  # ✅ Ensure correct shape\n",
    "\n",
    "        tokens = self.tokenizer(\n",
    "            gesture,\n",
    "            return_tensors=\"pt\",\n",
    "            padding=\"max_length\",\n",
    "            truncation=True,\n",
    "            max_length=10,\n",
    "        )\n",
    "        return {\n",
    "            \"input_ids\": tokens[\"input_ids\"].squeeze(0),\n",
    "            \"attention_mask\": tokens[\"attention_mask\"].squeeze(0),\n",
    "            \"target\": target\n",
    "        }\n",
    "\n",
    "dataset_path = \"../../public/gesture_dataset_arr(15).json\"  # adjust if needed\n",
    "dataset = GestureDataset(dataset_path, tokenizer)\n",
    "loader = DataLoader(dataset, batch_size=4, shuffle=True)"
   ]
  },
  {
   "cell_type": "markdown",
   "id": "b62b5d75",
   "metadata": {},
   "source": [
    "🧠 Training Loop"
   ]
  },
  {
   "cell_type": "code",
   "execution_count": 4,
   "id": "9aee7a90",
   "metadata": {},
   "outputs": [
    {
     "name": "stdout",
     "output_type": "stream",
     "text": [
      "Epoch 1: Loss = 1.043564\n",
      "Epoch 2: Loss = 0.915799\n",
      "Epoch 3: Loss = 0.804214\n",
      "Epoch 4: Loss = 0.718362\n",
      "Epoch 5: Loss = 0.635468\n",
      "Epoch 6: Loss = 0.573802\n",
      "Epoch 7: Loss = 0.527829\n",
      "Epoch 8: Loss = 0.485300\n",
      "Epoch 9: Loss = 0.441588\n",
      "Epoch 10: Loss = 0.416884\n",
      "Epoch 11: Loss = 0.402844\n",
      "Epoch 12: Loss = 0.382741\n",
      "Epoch 13: Loss = 0.375822\n",
      "Epoch 14: Loss = 0.363513\n",
      "Epoch 15: Loss = 0.359179\n",
      "Epoch 16: Loss = 0.354606\n",
      "Epoch 17: Loss = 0.353550\n",
      "Epoch 18: Loss = 0.351271\n",
      "Epoch 19: Loss = 0.350118\n",
      "Epoch 20: Loss = 0.347248\n",
      "Epoch 21: Loss = 0.346122\n",
      "Epoch 22: Loss = 0.344689\n",
      "Epoch 23: Loss = 0.343956\n",
      "Epoch 24: Loss = 0.342409\n",
      "Epoch 25: Loss = 0.340684\n",
      "Epoch 26: Loss = 0.340168\n",
      "Epoch 27: Loss = 0.339217\n",
      "Epoch 28: Loss = 0.338599\n",
      "Epoch 29: Loss = 0.335970\n",
      "Epoch 30: Loss = 0.334468\n"
     ]
    }
   ],
   "source": [
    "optimizer = torch.optim.Adam(model.parameters(), lr=1e-4)\n",
    "loss_fn = nn.MSELoss()\n",
    "model.train()\n",
    "\n",
    "losses = []\n",
    "epochs = 30\n",
    "\n",
    "for epoch in range(epochs):\n",
    "    total_loss = 0.0\n",
    "    for batch in loader:\n",
    "        with torch.no_grad():\n",
    "            pooled = bert(\n",
    "                input_ids=batch[\"input_ids\"],\n",
    "                attention_mask=batch[\"attention_mask\"]\n",
    "            ).pooler_output\n",
    "        pred = model(pooled)\n",
    "        loss = loss_fn(pred, batch[\"target\"])\n",
    "\n",
    "        optimizer.zero_grad()\n",
    "        loss.backward()\n",
    "        optimizer.step()\n",
    "\n",
    "        total_loss += loss.item()\n",
    "\n",
    "    avg_loss = total_loss / len(loader)\n",
    "    losses.append(avg_loss)\n",
    "    print(f\"Epoch {epoch+1}: Loss = {avg_loss:.6f}\")\n"
   ]
  },
  {
   "cell_type": "markdown",
   "id": "3d1baadc",
   "metadata": {},
   "source": [
    " 📉 Plot Loss Curve"
   ]
  },
  {
   "cell_type": "code",
   "execution_count": 5,
   "id": "f93c5655",
   "metadata": {},
   "outputs": [
    {
     "data": {
      "image/png": "[encoded data removed]",
      "text/plain": [
       "<Figure size 640x480 with 1 Axes>"
      ]
     },
     "metadata": {},
     "output_type": "display_data"
    }
   ],
   "source": [
    "plt.plot(losses)\n",
    "plt.xlabel(\"Epoch\")\n",
    "plt.ylabel(\"Loss\")\n",
    "plt.title(\"Training Loss\")\n",
    "plt.grid(True)\n",
    "plt.show()"
   ]
  },
  {
   "cell_type": "markdown",
   "id": "963d0bc3",
   "metadata": {},
   "source": [
    "💾 Save Model"
   ]
  },
  {
   "cell_type": "code",
   "execution_count": 6,
   "id": "ce985fde",
   "metadata": {},
   "outputs": [
    {
     "name": "stdout",
     "output_type": "stream",
     "text": [
      "✅ Model saved to bert_to_rotation.pth\n"
     ]
    }
   ],
   "source": [
    "torch.save(model.state_dict(), \"bert_to_rotation.pth\")\n",
    "print(\"✅ Model saved to bert_to_rotation.pth\")"
   ]
  }
 ],
 "metadata": {
  "kernelspec": {
   "display_name": "venv",
   "language": "python",
   "name": "python3"
  },
  "language_info": {
   "codemirror_mode": {
    "name": "ipython",
    "version": 3
   },
   "file_extension": ".py",
   "mimetype": "text/x-python",
   "name": "python",
   "nbconvert_exporter": "python",
   "pygments_lexer": "ipython3",
   "version": "3.12.7"
  }
 },
 "nbformat": 4,
 "nbformat_minor": 5
}
